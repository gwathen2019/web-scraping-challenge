{
 "cells": [
  {
   "cell_type": "code",
   "execution_count": 1,
   "metadata": {},
   "outputs": [],
   "source": [
    "# Dependencies\n",
    "from bs4 import BeautifulSoup as bs\n",
    "import requests\n",
    "import splinter\n",
    "from splinter import Browser\n",
    "import os\n",
    "import pandas as pd"
   ]
  },
  {
   "cell_type": "code",
   "execution_count": 2,
   "metadata": {},
   "outputs": [],
   "source": [
    "executable_path = {'executable_path': 'chromedriver.exe'}\n",
    "browser = Browser('chrome', **executable_path, headless=False)\n"
   ]
  },
  {
   "cell_type": "code",
   "execution_count": 3,
   "metadata": {},
   "outputs": [],
   "source": [
    "#URL of page to be scraped\n",
    "url = 'https://mars.nasa.gov/news/'"
   ]
  },
  {
   "cell_type": "code",
   "execution_count": 4,
   "metadata": {},
   "outputs": [],
   "source": [
    "#open splinter browser\n",
    "browser.visit(url)\n"
   ]
  },
  {
   "cell_type": "code",
   "execution_count": 5,
   "metadata": {},
   "outputs": [],
   "source": [
    "# Create BeautifulSoup object; parse with 'html.parser'\n",
    "soup = bs(browser.html, 'html.parser')\n"
   ]
  },
  {
   "cell_type": "code",
   "execution_count": 6,
   "metadata": {},
   "outputs": [],
   "source": [
    "result1 = soup.find_all('div', class_='content_title')\n"
   ]
  },
  {
   "cell_type": "code",
   "execution_count": 7,
   "metadata": {},
   "outputs": [
    {
     "data": {
      "text/plain": [
       "[\"NASA's Mars 2020 Heads Into the Test Chamber\",\n",
       " \"Screening Soon: 'The Pathfinders' Trains Lens on Mars\",\n",
       " \"InSight's 'Mole' Team Peers into the Pit\",\n",
       " \"Common Questions about InSight's 'Mole'\",\n",
       " 'Mars 2020 Stands on Its Own Six Wheels',\n",
       " 'New Selfie Shows Curiosity, the Mars Chemist',\n",
       " 'Naming a NASA Mars Rover Can Change Your Life',\n",
       " 'Mars 2020 Unwrapped and Ready for More Testing',\n",
       " \"HiRISE Views NASA's InSight and Curiosity on Mars\",\n",
       " \"NASA's Curiosity Rover Finds an Ancient Oasis on Mars\",\n",
       " \"NASA's Mars 2020 Rover Tests Descent-Stage Separation\",\n",
       " \"NASA's Push to Save the Mars InSight Lander's Heat Probe\",\n",
       " \"NASA's InSight 'Hears' Peculiar Sounds on Mars\",\n",
       " 'NASA Mars Mission Connects With Bosnian and Herzegovinian Town',\n",
       " \"Deadline Closing for Names to Fly on NASA's Next Mars Rover\",\n",
       " 'NASA Wins Two Emmy Awards for Interactive Mission Coverage',\n",
       " \"NASA's Mars 2020 Comes Full Circle\",\n",
       " 'NASA Invites Students to Name Mars 2020 Rover',\n",
       " \"NASA's Mars Helicopter Attached to Mars 2020 Rover \",\n",
       " \"What's Mars Solar Conjunction, and Why Does It Matter?\",\n",
       " 'Scientists Explore Outback as Testbed for Mars ',\n",
       " \"NASA-JPL Names 'Rolling Stones Rock' on Mars\",\n",
       " \"Robotic Toolkit Added to NASA's Mars 2020 Rover\",\n",
       " \"Space Samples Link NASA's Apollo 11 and Mars 2020\",\n",
       " 'Small Satellite Mission of the Year',\n",
       " \"NASA 'Optometrists' Verify Mars 2020 Rover's 20/20 Vision\",\n",
       " 'New Finds for Mars Rover, Seven Years After Landing',\n",
       " 'MEDLI2 Installation on Mars 2020 Aeroshell Begins',\n",
       " \"NASA's Mars 2020 Rover Does Biceps Curls \",\n",
       " \"Fueling of NASA's Mars 2020 Rover Power System Begins\",\n",
       " 'What Does a Marsquake Look Like?',\n",
       " 'Mars 2020 Rover: T-Minus One Year and Counting ',\n",
       " 'NASA Racks Up Two Emmy Nominations for Mission Coverage',\n",
       " 'Want to Colonize Mars? Aerogel Could Help',\n",
       " 'A Rover Pit Stop at JPL',\n",
       " 'Mars 2020 Rover Gets a Super Instrument',\n",
       " 'A Neil Armstrong for Mars: Landing the Mars 2020 Rover',\n",
       " \"NASA's InSight Uncovers the 'Mole' \",\n",
       " \"Mars 2020 Rover's 7-Foot-Long Robotic Arm Installed\",\n",
       " \"NASA Selects Partners for Mars 2020 'Name the Rover' Contest, Seeks Judges\",\n",
       " '\\nNASA Garners 7 Webby Award Nominations\\n',\n",
       " \"\\nNASA's Opportunity Rover Mission on Mars Comes to End\\n\",\n",
       " \"\\nNASA's InSight Places First Instrument on Mars\\n\",\n",
       " '\\nNASA Invites Students to Name Mars 2020 Rover\\n',\n",
       " \"\\nNASA's Curiosity Mars Rover Finds a Clay Cache\\n\",\n",
       " '\\nWhy This Martian Full Moon Looks Like Candy\\n',\n",
       " '\\nNASA Garners 7 Webby Award Nominations\\n',\n",
       " \"\\nNASA's Opportunity Rover Mission on Mars Comes to End\\n\",\n",
       " \"\\nNASA's InSight Places First Instrument on Mars\\n\",\n",
       " '\\nNASA Invites Students to Name Mars 2020 Rover\\n',\n",
       " \"\\nNASA's Curiosity Mars Rover Finds a Clay Cache\\n\",\n",
       " '\\nWhy This Martian Full Moon Looks Like Candy\\n']"
      ]
     },
     "execution_count": 7,
     "metadata": {},
     "output_type": "execute_result"
    }
   ],
   "source": [
    "news_title = []\n",
    "# Loop through returned results\n",
    "\n",
    "for result in result1:\n",
    "    news_title.append(result.a.text)\n",
    "    \n",
    "news_title"
   ]
  },
  {
   "cell_type": "code",
   "execution_count": 8,
   "metadata": {},
   "outputs": [],
   "source": [
    "result2 = soup.find_all('div', class_='article_teaser_body')\n"
   ]
  },
  {
   "cell_type": "code",
   "execution_count": 9,
   "metadata": {},
   "outputs": [
    {
     "data": {
      "text/plain": [
       "['In this time-lapse video taken at JPL, engineers move the Mars 2020 rover into a large vacuum chamber for testing in Mars-like environmental conditions.',\n",
       " 'With the Mars 2020 mission ramping up, the documentary — the first of four about past JPL missions to the Red Planet to be shown at Caltech — tells a gripping backstory.',\n",
       " 'Efforts to save the heat probe continue.',\n",
       " 'There\\'s a new plan to get InSight\\'s \"mole\" moving again. The following Q&As with two members of the team answer some of the most common questions about the burrowing device, part of a science instrument called the Heat Flow and Physical Properties Package (HP3).',\n",
       " \"In time-lapse video, taken at JPL, captures the first time NASA's Mars 2020 rover carries its full weight on its legs and wheels.\",\n",
       " 'The NASA rover performed a special chemistry experiment at the location captured in its newest self-portrait.',\n",
       " 'Want to name the robotic scientist NASA is sending to Mars in 2020? The student who named Curiosity — the rover currently exploring Mars — will tell you this is an opportunity worth taking.',\n",
       " \"In time-lapse video, bunny-suited engineers remove the inner layer of protective foil on NASA's Mars 2020 rover after it was relocated for testing.\",\n",
       " 'New images taken from space offer the clearest orbital glimpse yet of InSight as well as a view of Curiosity rolling along.',\n",
       " \"New evidence suggests salty, shallow ponds once dotted a Martian crater — a sign of the planet's drying climate.\",\n",
       " \"A crane lifts the rocket-powered descent stage away from NASA's Mars 2020 rover after technicians tested the pyrotechnic charges that separate the two spacecraft.\",\n",
       " \"The scoop on the end of the spacecraft's robotic arm will be used to 'pin' the mole against the wall of its hole.\",\n",
       " 'Listen to the marsquakes and other, less-expected sounds that the Mars lander has been detecting.',\n",
       " 'A letter from NASA was presented to the mayor of Jezero, Bosnia-Herzegovina, honoring the connection between the town and Jezero Crater, the Mars 2020 rover landing site.',\n",
       " 'You have until Sept. 30 to send your names to Mars aboard the Mars 2020 rover. ',\n",
       " \"NASA-JPL's coverage of the Mars InSight landing earns one of the two wins, making this the NASA center's second Emmy.\",\n",
       " \"Aiming to pinpoint the Martian vehicle's center of gravity, engineers took NASA's 2,300-pound Mars 2020 rover for a spin in the clean room at JPL. \",\n",
       " \"Through Nov. 1, K-12 students in the U.S. are encouraged to enter an essay contest to name NASA's next Mars rover.\",\n",
       " 'The helicopter will be first aircraft to perform flight tests on another planet.',\n",
       " 'NASA spacecraft at Mars are going to be on their own for a few weeks when the Sun comes between Mars and Earth, interrupting communications.',\n",
       " \"Australia provides a great place for NASA's Mars 2020 and the ESA-Roscosmos ExoMars scientists to hone techniques in preparation for searching for signs ancient life on Mars.\",\n",
       " \"NASA's Mars InSight mission honored one of the biggest bands of all time at Pasadena concert.\",\n",
       " \"The bit carousel, which lies at the heart of the rover's Sample Caching System, is now aboard NASA's newest rover. \",\n",
       " \"While separated by half a century, NASA's Apollo 11 and Mars 2020 missions share the same historic goal: returning samples to Earth.\",\n",
       " 'The first interplanetary CubeSats were recognized by the engineering community with the 2019 Small Satellite Mission of the Year award.',\n",
       " 'Mars 2020 rover underwent an eye exam after several cameras were installed on the rover.',\n",
       " 'NASA\\'s Curiosity rover is discovering odd rocks halfway into a region called the \"clay-bearing unit.\"',\n",
       " \"Hardware installed onto NASA's Mars 2020 entry vehicle this week will help to increase the safety of future Mars landings.\",\n",
       " \"In this time-lapse video, the robotic arm on NASA's Mars 2020 rover maneuvers its 88-pound (40-kilogram) sensor-laden turret as it moves from a deployed to stowed configuration.\",\n",
       " \"NASA gives the go-ahead to fuel the Mars 2020 rover's Multi-Mission Radioisotope Thermoelectric Generator, which will power rover and help keep it warm while exploring Mars.\",\n",
       " 'InSight scientists used a special \"shake room\" to demonstrate the differences between quakes on Earth, the Moon and Mars.',\n",
       " \"The launch period for NASA's next rover, Mars 2020, opens exactly one year from today, July 17, 2020, and extends through Aug. 5, 2020.\",\n",
       " \"JPL's coverage of the Mars InSight mission is among the efforts that will be up for an award in mid-September.\",\n",
       " 'Researchers are studying whether a wonder material used in Mars rovers could help warm parts of the Red Planet rich in water ice.',\n",
       " \"Working like a finely honed machine, a team of engineers in this time-lapse video clip install test wheels on another finely honed machine: NASA's Mars 2020 rover.\",\n",
       " 'With its rock-zapping laser, the SuperCam will enable the science team to identify the chemical and mineral makeup of its targets on the Red Planet.',\n",
       " \"NASA's newest rover will have an autopilot called Terrain-Relative Navigation.\",\n",
       " \"The lander's robotic arm has successfully removed a piece of hardware blocking the view of its digging device in order to help with recovery efforts.\",\n",
       " \"The main robotic arm has been installed on NASA's newest rover. When complete, the arm will enable the rover to hold and use science tools like a human geologist would.\",\n",
       " 'The contest for U.S. schoolchildren will open in fall 2019, but judges can sign up now.']"
      ]
     },
     "execution_count": 9,
     "metadata": {},
     "output_type": "execute_result"
    }
   ],
   "source": [
    "news_p = []\n",
    "# Loop through returned results\n",
    "\n",
    "for result in result2:\n",
    "    news_p.append(result.text)\n",
    "    \n",
    "news_p"
   ]
  },
  {
   "cell_type": "code",
   "execution_count": 20,
   "metadata": {},
   "outputs": [
    {
     "data": {
      "text/plain": [
       "'https://jpl.nasa.gov/spaceimages/details.php?id=PIA15253'"
      ]
     },
     "execution_count": 20,
     "metadata": {},
     "output_type": "execute_result"
    }
   ],
   "source": [
    "#JPL Mars Space Image\n",
    "\n",
    "url2 = 'https://www.jpl.nasa.gov/spaceimages/?search=&category=Mars'\n",
    "browser.visit(url2)\n",
    "soup = bs(browser.html, 'html.parser')\n",
    "#find tag with featured image\n",
    "div_tag = soup.find('a', class_='button fancybox')\n",
    "\n",
    "#find attribute (data-link) that contains link to featured image\n",
    "#div_tag['data-link']\n",
    "\n",
    "#create link to access featured image\n",
    "image_link = \"https://jpl.nasa.gov\" + str(div_tag['data-link'])\n",
    "image_link\n",
    "\n"
   ]
  },
  {
   "cell_type": "code",
   "execution_count": 41,
   "metadata": {},
   "outputs": [
    {
     "data": {
      "text/plain": [
       "'https://jpl.nasa.gov/spaceimages/images/largesize/PIA15253_hires.jpg'"
      ]
     },
     "execution_count": 41,
     "metadata": {},
     "output_type": "execute_result"
    }
   ],
   "source": [
    "url3 = image_link\n",
    "browser.visit(url3)\n",
    "soup = bs(browser.html, 'html.parser')\n",
    "\n",
    "figure = soup.find_all('figure')\n",
    "figure\n",
    "image = soup.figure.a\n",
    "#image['href']\n",
    "\n",
    "featured_image_url = \"https://jpl.nasa.gov\" + str(image['href'])\n",
    "featured_image_url\n"
   ]
  },
  {
   "cell_type": "code",
   "execution_count": 51,
   "metadata": {},
   "outputs": [
    {
     "data": {
      "text/plain": [
       "'InSight sol 338 (2019-11-08) low -102.5ºC (-152.5ºF) high -24.0ºC (-11.1ºF)\\nwinds from the SSE at 5.3 m/s (11.9 mph) gusting to 19.6 m/s (43.9 mph)\\npressure at 6.90 hPapic.twitter.com/VxWNunPM5q'"
      ]
     },
     "execution_count": 51,
     "metadata": {},
     "output_type": "execute_result"
    }
   ],
   "source": [
    "url4 = 'https://twitter.com/marswxreport?lang=en'\n",
    "browser.visit(url4)\n",
    "soup = bs(browser.html, 'html.parser')\n",
    "\n",
    "mars_tweet = soup.find('div', class_=\"js-tweet-text-container\")\n",
    "mars_weather = mars_tweet.p.text\n",
    "mars_weather"
   ]
  },
  {
   "cell_type": "code",
   "execution_count": 66,
   "metadata": {},
   "outputs": [
    {
     "name": "stdout",
     "output_type": "stream",
     "text": [
      "'Facts about Mars'\n",
      "'Mars and Earth have approximately the same landmass.'\n",
      "'Even though Mars has only 15% of the '\n",
      "'Earth’s'\n",
      "' volume and just over 10% of the Earth’s mass, around two thirds of the Earth’s surface is covered in water. Martian surface gravity is only 37% of the Earth’s (meaning you could leap nearly three times higher on Mars).'\n",
      "'Mars is home to the tallest mountain in the solar system.'\n",
      "'Olympus Mons'\n",
      "', a shield volcano, is 21km high and 600km in diameter. Despite having formed over billions of years, evidence from volcanic lava flows is so recent many scientists believe it could still be active.'\n",
      "'Only 18 missions to Mars have been successful.'\n",
      "'As of September 2014 there have been 40 '\n",
      "'missions to Mars'\n",
      "', including orbiters, landers and rovers but not counting flybys. The most recent arrivals include the Mars Curiosity mission in 2012, the MAVEN mission, which arrived on September 22, 2014, followed by the Indian Space Research Organization’s MOM Mangalyaan orbiter, which arrived on September 24, 2014. The next missions to arrive will be the European Space Agency’s ExoMars mission, comprising an orbiter, lander, and a rover, followed by NASA’s InSight robotic lander mission, slated for launch in March 2016 and a planned arrival in September, 2016.'\n",
      "'Mars has the largest dust storms in the solar system.'\n",
      "'They can last for months and cover the entire planet. The seasons are extreme because its elliptical (oval-shaped) orbital path around the Sun is more elongated than most other planets in the '\n",
      "'solar system'\n",
      "'.'\n",
      "'On Mars the Sun appears about half the size as it does on Earth.'\n",
      "'At the closest point to the Sun, the Martian southern hemisphere leans towards the Sun, causing a short, intensely hot summer, while the northern hemisphere endures a brief, cold winter: at its farthest point from the Sun, the Martian northern hemisphere leans towards the Sun, causing a long, mild summer, while the southern hemisphere endures a lengthy, cold winter.'\n",
      "'Pieces of Mars have fallen to Earth.'\n",
      "'Scientists have found tiny traces of Martian atmosphere within meteorites violently ejected from Mars, then orbiting the solar system amongst galactic debris for millions of years, before crash landing on Earth. This allowed scientists to begin studying Mars prior to launching space missions.'\n",
      "'Mars takes its name from the Roman god of war.'\n",
      "'The ancient Greeks called the planet Ares, after their god of war; the Romans then did likewise, associating the planet’s blood-red colour with Mars, their own god of war. Interestingly, other ancient cultures also focused on colour – to China’s astronomers it was ‘the fire star’, whilst Egyptian priests called on ‘Her Desher’, or ‘the red one’. The red colour Mars is known for is due to the rock and dust covering its surface being rich in iron.'\n",
      "'There are signs of liquid water on Mars.'\n",
      "'For years Mars has been known to have water in the form of ice. The first signs of trickling water are dark stripes or stains on crater wall and cliffs seen in satellite images. Due to Mars’ atmosphere this water would have to be salty to prevent it from freezing or vaporising.'\n",
      "'One day Mars will have a ring.'\n",
      "'In the next 20-40 million years Mars’ largest moon Phobos will be torn apart by gravitational forces leading to the creation of a ring that could last up to 100 million years.'\n"
     ]
    }
   ],
   "source": [
    "url5 = 'https://space-facts.com/mars/'\n",
    "browser.visit(url5)\n",
    "soup = bs(browser.html, 'html.parser')\n",
    "\n",
    "mars_facts = soup.find(id='facts').strings\n",
    "\n",
    "for string in mars_facts:\n",
    "    print(repr(string))\n",
    "\n"
   ]
  },
  {
   "cell_type": "code",
   "execution_count": 68,
   "metadata": {},
   "outputs": [],
   "source": [
    "import pandas as pd"
   ]
  },
  {
   "cell_type": "code",
   "execution_count": 69,
   "metadata": {},
   "outputs": [
    {
     "data": {
      "text/plain": [
       "[                      0                              1\n",
       " 0  Equatorial Diameter:                       6,792 km\n",
       " 1       Polar Diameter:                       6,752 km\n",
       " 2                 Mass:  6.39 × 10^23 kg (0.11 Earths)\n",
       " 3                Moons:            2 (Phobos & Deimos)\n",
       " 4       Orbit Distance:       227,943,824 km (1.38 AU)\n",
       " 5         Orbit Period:           687 days (1.9 years)\n",
       " 6  Surface Temperature:                   -87 to -5 °C\n",
       " 7         First Record:              2nd millennium BC\n",
       " 8          Recorded By:           Egyptian astronomers,\n",
       "   Mars - Earth Comparison             Mars            Earth\n",
       " 0               Diameter:         6,779 km        12,742 km\n",
       " 1                   Mass:  6.39 × 10^23 kg  5.97 × 10^24 kg\n",
       " 2                  Moons:                2                1\n",
       " 3      Distance from Sun:   227,943,824 km   149,598,262 km\n",
       " 4         Length of Year:   687 Earth days      365.24 days\n",
       " 5            Temperature:    -153 to 20 °C      -88 to 58°C,\n",
       "                       0                              1\n",
       " 0  Equatorial Diameter:                       6,792 km\n",
       " 1       Polar Diameter:                       6,752 km\n",
       " 2                 Mass:  6.39 × 10^23 kg (0.11 Earths)\n",
       " 3                Moons:            2 (Phobos & Deimos)\n",
       " 4       Orbit Distance:       227,943,824 km (1.38 AU)\n",
       " 5         Orbit Period:           687 days (1.9 years)\n",
       " 6  Surface Temperature:                   -87 to -5 °C\n",
       " 7         First Record:              2nd millennium BC\n",
       " 8          Recorded By:           Egyptian astronomers]"
      ]
     },
     "execution_count": 69,
     "metadata": {},
     "output_type": "execute_result"
    }
   ],
   "source": [
    "tables = pd.read_html(url5)\n",
    "tables"
   ]
  },
  {
   "cell_type": "code",
   "execution_count": 70,
   "metadata": {},
   "outputs": [],
   "source": [
    "url6 = 'https://astrogeology.usgs.gov/search/results?q=hemisphere+enhanced&k1=target&v1=Mars'\n",
    "browser.visit(url6)\n",
    "soup = bs(browser.html, 'html.parser')"
   ]
  },
  {
   "cell_type": "code",
   "execution_count": null,
   "metadata": {},
   "outputs": [],
   "source": []
  }
 ],
 "metadata": {
  "kernelspec": {
   "display_name": "Python 3",
   "language": "python",
   "name": "python3"
  },
  "language_info": {
   "codemirror_mode": {
    "name": "ipython",
    "version": 3
   },
   "file_extension": ".py",
   "mimetype": "text/x-python",
   "name": "python",
   "nbconvert_exporter": "python",
   "pygments_lexer": "ipython3",
   "version": "3.7.3"
  }
 },
 "nbformat": 4,
 "nbformat_minor": 2
}
