{
 "cells": [
  {
   "cell_type": "code",
   "execution_count": 1,
   "metadata": {},
   "outputs": [],
   "source": [
    "# Dependencies\n",
    "from bs4 import BeautifulSoup as bs\n",
    "import requests\n",
    "import splinter\n",
    "from splinter import Browser\n",
    "import os"
   ]
  },
  {
   "cell_type": "code",
   "execution_count": 2,
   "metadata": {},
   "outputs": [],
   "source": [
    "executable_path = {'executable_path': 'chromedriver.exe'}\n",
    "browser = Browser('chrome', **executable_path, headless=False)\n"
   ]
  },
  {
   "cell_type": "code",
   "execution_count": 3,
   "metadata": {},
   "outputs": [],
   "source": [
    "#URL of page to be scraped\n",
    "#url = 'https://mars.nasa.gov/news/'\n",
    "url = 'https://mars.nasa.gov/news/'"
   ]
  },
  {
   "cell_type": "code",
   "execution_count": 5,
   "metadata": {},
   "outputs": [],
   "source": [
    "browser.visit(url)\n",
    "\n",
    "# Retrieve page with the requests module\n",
    "#response = requests.get(url)"
   ]
  },
  {
   "cell_type": "code",
   "execution_count": 6,
   "metadata": {},
   "outputs": [],
   "source": [
    "# Create BeautifulSoup object; parse with 'html.parser'\n",
    "soup = bs(browser.html, 'html.parser')\n"
   ]
  },
  {
   "cell_type": "code",
   "execution_count": 7,
   "metadata": {},
   "outputs": [
    {
     "data": {
      "text/plain": [
       "'\\n\\n\\n\\n\\n\\n\\n\\n\\n\\n\\n\\n\\n\\n\\n\\n\\n\\n\\n\\n\\n\\n\\n\\n\\n\\n\\n\\n\\n\\n\\n\\n\\n\\n\\n\\n\\n\\n\\n\\nNASA\\n\\n\\nNASA Science\\nMars Exploration Program\\n\\n\\n\\nSkip Navigation\\n\\n\\n\\nmenu\\n\\n\\n\\n\\n\\n\\n\\nThe Red PlanetDashboardScience GoalsThe PlanetAtmosphereAstrobiologyPast, Present, Future, TimelineThe ProgramMission StatementAbout the ProgramOrganizationWhy Mars?Research ProgramsPlanetary ResourcesTechnologiesNews & EventsNewsEventsMultimediaImagesVideosMissionsPastPresentFutureInternational PartnersMore\\n\\n\\n\\n\\n\\n\\n\\n\\n\\n\\n\\n\\n\\n\\n\\n\\nNewsLatest20192018201720162015201420132012201120102009200820072006200520042003200220012000All CategoriesFeature StoriesPress ReleasesSpotlightsStatus ReportsIn this time-lapse video taken at JPL, engineers move the Mars 2020 rover into a large vacuum chamber for testing in Mars-like environmental conditions.NASA\\'s Mars 2020 Heads Into the Test ChamberNovember  7, 2019NASA\\'s Mars 2020 Heads Into the Test ChamberIn this time-lapse video taken at JPL, engineers move the Mars 2020 rover into a large vacuum chamber for testing in Mars-like environmental conditions.With the Mars 2020 mission ramping up, the documentary — the first of four about past JPL missions to the Red Planet to be shown at Caltech — tells a gripping backstory.Screening Soon: \\'The Pathfinders\\' Trains Lens on MarsNovember  7, 2019Screening Soon: \\'The Pathfinders\\' Trains Lens on MarsWith the Mars 2020 mission ramping up, the documentary — the first of four about past JPL missions to the Red Planet to be shown at Caltech — tells a gripping backstory.Efforts to save the heat probe continue.InSight\\'s \\'Mole\\' Team Peers into the PitNovember  6, 2019InSight\\'s \\'Mole\\' Team Peers into the PitEfforts to save the heat probe continue.There\\'s a new plan to get InSight\\'s \"mole\" moving again. The following Q&As with two members of the team answer some of the most common questions about the burrowing device, part of a science instrument called the Heat Flow and Physical Properties Package (HP3).Common Questions about InSight\\'s \\'Mole\\'November  6, 2019Common Questions about InSight\\'s \\'Mole\\'There\\'s a new plan to get InSight\\'s \"mole\" moving again. The following Q&As with two members of the team answer some of the most common questions about the burrowing device, part of a science instrument called the Heat Flow and Physical Properties Package (HP3).In time-lapse video, taken at JPL, captures the first time NASA\\'s Mars 2020 rover carries its full weight on its legs and wheels.Mars 2020 Stands on Its Own Six WheelsOctober 24, 2019Mars 2020 Stands on Its Own Six WheelsIn time-lapse video, taken at JPL, captures the first time NASA\\'s Mars 2020 rover carries its full weight on its legs and wheels.The NASA rover performed a special chemistry experiment at the location captured in its newest self-portrait.New Selfie Shows Curiosity, the Mars ChemistOctober 24, 2019New Selfie Shows Curiosity, the Mars ChemistThe NASA rover performed a special chemistry experiment at the location captured in its newest self-portrait.Want to name the robotic scientist NASA is sending to Mars in 2020? The student who named Curiosity — the rover currently exploring Mars — will tell you this is an opportunity worth taking.Naming a NASA Mars Rover Can Change Your LifeOctober 22, 2019Naming a NASA Mars Rover Can Change Your LifeWant to name the robotic scientist NASA is sending to Mars in 2020? The student who named Curiosity — the rover currently exploring Mars — will tell you this is an opportunity worth taking.In time-lapse video, bunny-suited engineers remove the inner layer of protective foil on NASA\\'s Mars 2020 rover after it was relocated for testing.Mars 2020 Unwrapped and Ready for More TestingOctober 18, 2019Mars 2020 Unwrapped and Ready for More TestingIn time-lapse video, bunny-suited engineers remove the inner layer of protective foil on NASA\\'s Mars 2020 rover after it was relocated for testing.New images taken from space offer the clearest orbital glimpse yet of InSight as well as a view of Curiosity rolling along.HiRISE Views NASA\\'s InSight and Curiosity on MarsOctober 16, 2019HiRISE Views NASA\\'s InSight and Curiosity on MarsNew images taken from space offer the clearest orbital glimpse yet of InSight as well as a view of Curiosity rolling along.New evidence suggests salty, shallow ponds once dotted a Martian crater — a sign of the planet\\'s drying climate.NASA\\'s Curiosity Rover Finds an Ancient Oasis on MarsOctober  7, 2019NASA\\'s Curiosity Rover Finds an Ancient Oasis on MarsNew evidence suggests salty, shallow ponds once dotted a Martian crater — a sign of the planet\\'s drying climate.A crane lifts the rocket-powered descent stage away from NASA\\'s Mars 2020 rover after technicians tested the pyrotechnic charges that separate the two spacecraft.NASA\\'s Mars 2020 Rover Tests Descent-Stage SeparationOctober  4, 2019NASA\\'s Mars 2020 Rover Tests Descent-Stage SeparationA crane lifts the rocket-powered descent stage away from NASA\\'s Mars 2020 rover after technicians tested the pyrotechnic charges that separate the two spacecraft.The scoop on the end of the spacecraft\\'s robotic arm will be used to \\'pin\\' the mole against the wall of its hole.NASA\\'s Push to Save the Mars InSight Lander\\'s Heat ProbeOctober  3, 2019NASA\\'s Push to Save the Mars InSight Lander\\'s Heat ProbeThe scoop on the end of the spacecraft\\'s robotic arm will be used to \\'pin\\' the mole against the wall of its hole.Listen to the marsquakes and other, less-expected sounds that the Mars lander has been detecting.NASA\\'s InSight \\'Hears\\' Peculiar Sounds on MarsOctober  1, 2019NASA\\'s InSight \\'Hears\\' Peculiar Sounds on MarsListen to the marsquakes and other, less-expected sounds that the Mars lander has been detecting.A letter from NASA was presented to the mayor of Jezero, Bosnia-Herzegovina, honoring the connection between the town and Jezero Crater, the Mars 2020 rover landing site.NASA Mars Mission Connects With Bosnian and Herzegovinian TownSeptember 23, 2019NASA Mars Mission Connects With Bosnian and Herzegovinian TownA letter from NASA was presented to the mayor of Jezero, Bosnia-Herzegovina, honoring the connection between the town and Jezero Crater, the Mars 2020 rover landing site.You have until Sept. 30 to send your names to Mars aboard the Mars 2020 rover. Deadline Closing for Names to Fly on NASA\\'s Next Mars RoverSeptember 18, 2019Deadline Closing for Names to Fly on NASA\\'s Next Mars RoverYou have until Sept. 30 to send your names to Mars aboard the Mars 2020 rover. NASA-JPL\\'s coverage of the Mars InSight landing earns one of the two wins, making this the NASA center\\'s second Emmy.NASA Wins Two Emmy Awards for Interactive Mission CoverageSeptember 16, 2019NASA Wins Two Emmy Awards for Interactive Mission CoverageNASA-JPL\\'s coverage of the Mars InSight landing earns one of the two wins, making this the NASA center\\'s second Emmy.Aiming to pinpoint the Martian vehicle\\'s center of gravity, engineers took NASA\\'s 2,300-pound Mars 2020 rover for a spin in the clean room at JPL. NASA\\'s Mars 2020 Comes Full CircleSeptember 12, 2019NASA\\'s Mars 2020 Comes Full CircleAiming to pinpoint the Martian vehicle\\'s center of gravity, engineers took NASA\\'s 2,300-pound Mars 2020 rover for a spin in the clean room at JPL. Through Nov. 1, K-12 students in the U.S. are encouraged to enter an essay contest to name NASA\\'s next Mars rover.NASA Invites Students to Name Mars 2020 RoverAugust 28, 2019NASA Invites Students to Name Mars 2020 RoverThrough Nov. 1, K-12 students in the U.S. are encouraged to enter an essay contest to name NASA\\'s next Mars rover.The helicopter will be first aircraft to perform flight tests on another planet.NASA\\'s Mars Helicopter Attached to Mars 2020 Rover August 28, 2019NASA\\'s Mars Helicopter Attached to Mars 2020 Rover The helicopter will be first aircraft to perform flight tests on another planet.NASA spacecraft at Mars are going to be on their own for a few weeks when the Sun comes between Mars and Earth, interrupting communications.What\\'s Mars Solar Conjunction, and Why Does It Matter?August 23, 2019What\\'s Mars Solar Conjunction, and Why Does It Matter?NASA spacecraft at Mars are going to be on their own for a few weeks when the Sun comes between Mars and Earth, interrupting communications.Australia provides a great place for NASA\\'s Mars 2020 and the ESA-Roscosmos ExoMars scientists to hone techniques in preparation for searching for signs ancient life on Mars.Scientists Explore Outback as Testbed for Mars August 23, 2019Scientists Explore Outback as Testbed for Mars Australia provides a great place for NASA\\'s Mars 2020 and the ESA-Roscosmos ExoMars scientists to hone techniques in preparation for searching for signs ancient life on Mars.NASA\\'s Mars InSight mission honored one of the biggest bands of all time at Pasadena concert.NASA-JPL Names \\'Rolling Stones Rock\\' on MarsAugust 22, 2019NASA-JPL Names \\'Rolling Stones Rock\\' on MarsNASA\\'s Mars InSight mission honored one of the biggest bands of all time at Pasadena concert.The bit carousel, which lies at the heart of the rover\\'s Sample Caching System, is now aboard NASA\\'s newest rover. Robotic Toolkit Added to NASA\\'s Mars 2020 RoverAugust 15, 2019Robotic Toolkit Added to NASA\\'s Mars 2020 RoverThe bit carousel, which lies at the heart of the rover\\'s Sample Caching System, is now aboard NASA\\'s newest rover. While separated by half a century, NASA\\'s Apollo 11 and Mars 2020 missions share the same historic goal: returning samples to Earth.Space Samples Link NASA\\'s Apollo 11 and Mars 2020August 13, 2019Space Samples Link NASA\\'s Apollo 11 and Mars 2020While separated by half a century, NASA\\'s Apollo 11 and Mars 2020 missions share the same historic goal: returning samples to Earth.The first interplanetary CubeSats were recognized by the engineering community with the 2019 Small Satellite Mission of the Year award.Small Satellite Mission of the YearAugust  9, 2019Small Satellite Mission of the YearThe first interplanetary CubeSats were recognized by the engineering community with the 2019 Small Satellite Mission of the Year award.Mars 2020 rover underwent an eye exam after several cameras were installed on the rover.NASA \\'Optometrists\\' Verify Mars 2020 Rover\\'s 20/20 VisionAugust  5, 2019NASA \\'Optometrists\\' Verify Mars 2020 Rover\\'s 20/20 VisionMars 2020 rover underwent an eye exam after several cameras were installed on the rover.NASA\\'s Curiosity rover is discovering odd rocks halfway into a region called the \"clay-bearing unit.\"New Finds for Mars Rover, Seven Years After LandingAugust  5, 2019New Finds for Mars Rover, Seven Years After LandingNASA\\'s Curiosity rover is discovering odd rocks halfway into a region called the \"clay-bearing unit.\"Hardware installed onto NASA\\'s Mars 2020 entry vehicle this week will help to increase the safety of future Mars landings.MEDLI2 Installation on Mars 2020 Aeroshell BeginsAugust  3, 2019MEDLI2 Installation on Mars 2020 Aeroshell BeginsHardware installed onto NASA\\'s Mars 2020 entry vehicle this week will help to increase the safety of future Mars landings.In this time-lapse video, the robotic arm on NASA\\'s Mars 2020 rover maneuvers its 88-pound (40-kilogram) sensor-laden turret as it moves from a deployed to stowed configuration.NASA\\'s Mars 2020 Rover Does Biceps Curls July 26, 2019NASA\\'s Mars 2020 Rover Does Biceps Curls In this time-lapse video, the robotic arm on NASA\\'s Mars 2020 rover maneuvers its 88-pound (40-kilogram) sensor-laden turret as it moves from a deployed to stowed configuration.NASA gives the go-ahead to fuel the Mars 2020 rover\\'s Multi-Mission Radioisotope Thermoelectric Generator, which will power rover and help keep it warm while exploring Mars.Fueling of NASA\\'s Mars 2020 Rover Power System BeginsJuly 24, 2019Fueling of NASA\\'s Mars 2020 Rover Power System BeginsNASA gives the go-ahead to fuel the Mars 2020 rover\\'s Multi-Mission Radioisotope Thermoelectric Generator, which will power rover and help keep it warm while exploring Mars.InSight scientists used a special \"shake room\" to demonstrate the differences between quakes on Earth, the Moon and Mars.What Does a Marsquake Look Like?July 22, 2019What Does a Marsquake Look Like?InSight scientists used a special \"shake room\" to demonstrate the differences between quakes on Earth, the Moon and Mars.The launch period for NASA\\'s next rover, Mars 2020, opens exactly one year from today, July 17, 2020, and extends through Aug. 5, 2020.Mars 2020 Rover: T-Minus One Year and Counting July 17, 2019Mars 2020 Rover: T-Minus One Year and Counting The launch period for NASA\\'s next rover, Mars 2020, opens exactly one year from today, July 17, 2020, and extends through Aug. 5, 2020.JPL\\'s coverage of the Mars InSight mission is among the efforts that will be up for an award in mid-September.NASA Racks Up Two Emmy Nominations for Mission CoverageJuly 16, 2019NASA Racks Up Two Emmy Nominations for Mission CoverageJPL\\'s coverage of the Mars InSight mission is among the efforts that will be up for an award in mid-September.Researchers are studying whether a wonder material used in Mars rovers could help warm parts of the Red Planet rich in water ice.Want to Colonize Mars? Aerogel Could HelpJuly 15, 2019Want to Colonize Mars? Aerogel Could HelpResearchers are studying whether a wonder material used in Mars rovers could help warm parts of the Red Planet rich in water ice.Working like a finely honed machine, a team of engineers in this time-lapse video clip install test wheels on another finely honed machine: NASA\\'s Mars 2020 rover.A Rover Pit Stop at JPLJuly 12, 2019A Rover Pit Stop at JPLWorking like a finely honed machine, a team of engineers in this time-lapse video clip install test wheels on another finely honed machine: NASA\\'s Mars 2020 rover.With its rock-zapping laser, the SuperCam will enable the science team to identify the chemical and mineral makeup of its targets on the Red Planet.Mars 2020 Rover Gets a Super InstrumentJuly  2, 2019Mars 2020 Rover Gets a Super InstrumentWith its rock-zapping laser, the SuperCam will enable the science team to identify the chemical and mineral makeup of its targets on the Red Planet.NASA\\'s newest rover will have an autopilot called Terrain-Relative Navigation.A Neil Armstrong for Mars: Landing the Mars 2020 RoverJuly  1, 2019A Neil Armstrong for Mars: Landing the Mars 2020 RoverNASA\\'s newest rover will have an autopilot called Terrain-Relative Navigation.The lander\\'s robotic arm has successfully removed a piece of hardware blocking the view of its digging device in order to help with recovery efforts.NASA\\'s InSight Uncovers the \\'Mole\\' July  1, 2019NASA\\'s InSight Uncovers the \\'Mole\\' The lander\\'s robotic arm has successfully removed a piece of hardware blocking the view of its digging device in order to help with recovery efforts.The main robotic arm has been installed on NASA\\'s newest rover. When complete, the arm will enable the rover to hold and use science tools like a human geologist would.Mars 2020 Rover\\'s 7-Foot-Long Robotic Arm InstalledJune 28, 2019Mars 2020 Rover\\'s 7-Foot-Long Robotic Arm InstalledThe main robotic arm has been installed on NASA\\'s newest rover. When complete, the arm will enable the rover to hold and use science tools like a human geologist would.The contest for U.S. schoolchildren will open in fall 2019, but judges can sign up now.NASA Selects Partners for Mars 2020 \\'Name the Rover\\' Contest, Seeks JudgesJune 25, 2019NASA Selects Partners for Mars 2020 \\'Name the Rover\\' Contest, Seeks JudgesThe contest for U.S. schoolchildren will open in fall 2019, but judges can sign up now.More\\n\\n\\n\\n\\n\\n\\nYou Might Also Like\\n\\n\\n\\n  $(document).ready(function(){\\n    $(\".features\").slick({\\n      dots: false,\\n      infinite: true,\\n      speed: 300,\\n      slide: \\'.features .slide\\',\\n      slidesToShow: 3,\\n      slidesToScroll: 3,\\n      lazyLoad: \\'ondemand\\',\\n      centerMode: false,\\n      arrows: true,\\n      appendArrows: \\'.features .slick-nav\\',\\n      appendDots: \".features .slick-nav\",\\n      responsive: [{\"breakpoint\":953,\"settings\":{\"slidesToShow\":2,\"slidesToScroll\":2,\"centerMode\":false}},{\"breakpoint\":480,\"settings\":{\"slidesToShow\":1,\"slidesToScroll\":1,\"centerMode\":true,\"arrows\":false,\"centerPadding\":\"25px\"}}]\\n    });\\n  });\\n\\n\\n\\n\\n\\n\\n\\nNominees include four JPL projects: the solar system and climate websites, InSight social media, and a 360-degree Earth video. Public voting closes April 18, 2019.\\n\\n\\n\\n\\n\\n\\n\\n\\n\\n\\nNASA Garners 7 Webby Award Nominations\\n\\n\\n\\n\\n\\n\\n\\nNASA\\'s Opportunity Mars rover mission is complete after 15 years on Mars. Opportunity\\'s record-breaking exploration laid the groundwork for future missions to the Red Planet.\\n\\n\\n\\n\\n\\n\\n\\n\\n\\n\\nNASA\\'s Opportunity Rover Mission on Mars Comes to End\\n\\n\\n\\n\\n\\n\\n\\nIn deploying its first instrument onto the surface of Mars, the lander completes a major mission milestone.\\n\\n\\n\\n\\n\\n\\n\\n\\n\\n\\nNASA\\'s InSight Places First Instrument on Mars\\n\\n\\n\\n\\n\\n\\n\\nThrough Nov. 1, K-12 students in the U.S. are encouraged to enter an essay contest to name NASA\\'s next Mars rover.\\n\\n\\n\\n\\n\\n\\n\\n\\n\\n\\nNASA Invites Students to Name Mars 2020 Rover\\n\\n\\n\\n\\n\\n\\n\\nThe rover recently drilled two samples, and both showed the highest levels of clay ever found during the mission.\\n\\n\\n\\n\\n\\n\\n\\n\\n\\n\\nNASA\\'s Curiosity Mars Rover Finds a Clay Cache\\n\\n\\n\\n\\n\\n\\n\\nFor the first time, NASA\\'s Mars Odyssey orbiter has caught the Martian moon Phobos during a full moon phase. Each color in this new image represents a temperature range detected by Odyssey\\'s infrared camera.\\n\\n\\n\\n\\n\\n\\n\\n\\n\\n\\nWhy This Martian Full Moon Looks Like Candy\\n\\n\\n\\n\\n\\n\\n\\nNominees include four JPL projects: the solar system and climate websites, InSight social media, and a 360-degree Earth video. Public voting closes April 18, 2019.\\n\\n\\n\\n\\n\\n\\n\\n\\n\\n\\nNASA Garners 7 Webby Award Nominations\\n\\n\\n\\n\\n\\n\\n\\nNASA\\'s Opportunity Mars rover mission is complete after 15 years on Mars. Opportunity\\'s record-breaking exploration laid the groundwork for future missions to the Red Planet.\\n\\n\\n\\n\\n\\n\\n\\n\\n\\n\\nNASA\\'s Opportunity Rover Mission on Mars Comes to End\\n\\n\\n\\n\\n\\n\\n\\nIn deploying its first instrument onto the surface of Mars, the lander completes a major mission milestone.\\n\\n\\n\\n\\n\\n\\n\\n\\n\\n\\nNASA\\'s InSight Places First Instrument on Mars\\n\\n\\n\\n\\n\\n\\n\\nThrough Nov. 1, K-12 students in the U.S. are encouraged to enter an essay contest to name NASA\\'s next Mars rover.\\n\\n\\n\\n\\n\\n\\n\\n\\n\\n\\nNASA Invites Students to Name Mars 2020 Rover\\n\\n\\n\\n\\n\\n\\n\\nThe rover recently drilled two samples, and both showed the highest levels of clay ever found during the mission.\\n\\n\\n\\n\\n\\n\\n\\n\\n\\n\\nNASA\\'s Curiosity Mars Rover Finds a Clay Cache\\n\\n\\n\\n\\n\\n\\n\\nFor the first time, NASA\\'s Mars Odyssey orbiter has caught the Martian moon Phobos during a full moon phase. Each color in this new image represents a temperature range detected by Odyssey\\'s infrared camera.\\n\\n\\n\\n\\n\\n\\n\\n\\n\\n\\nWhy This Martian Full Moon Looks Like Candy\\n\\n\\n\\n\\n\\nPreviousNext\\n\\n\\n\\n\\n\\n\\n\\n\\n\\n\\n\\nFollow the Journey\\n\\n\\n\\n\\nTwitter\\n\\nFacebook\\n\\nInstagram\\n\\nRSS\\n\\n\\n\\n\\n\\n\\n\\n\\n\\n\\nThe Red Planet\\n\\n\\n\\n\\n\\nDashboard\\n\\n\\nScience Goals\\n\\n\\nThe Planet\\n\\n\\nAtmosphere\\n\\n\\nAstrobiology\\n\\n\\nPast, Present, Future, Timeline\\n\\n\\n\\n\\n\\n\\n\\n\\n\\nThe Program\\n\\n\\n\\n\\n\\nMission Statement\\n\\n\\nAbout the Program\\n\\n\\nOrganization\\n\\n\\nWhy Mars?\\n\\n\\nResearch Programs\\n\\n\\nPlanetary Resources\\n\\n\\nTechnologies\\n\\n\\n\\n\\n\\n\\n\\n\\n\\nNews & Events\\n\\n\\n\\n\\n\\nNews\\n\\n\\nEvents\\n\\n\\n\\n\\n\\n\\n\\n\\n\\nMultimedia\\n\\n\\n\\n\\n\\nImages\\n\\n\\nVideos\\n\\n\\n\\n\\n\\n\\n\\n\\n\\nMissions\\n\\n\\n\\n\\n\\nPast\\n\\n\\nPresent\\n\\n\\nFuture\\n\\n\\nInternational Partners\\n\\n\\n\\n\\n\\n\\n\\n\\n\\nMore\\n\\n\\n\\n\\n\\n\\n\\n\\n\\n\\n\\n\\n\\n\\n\\n\\n\\nNASA Science Mission Directorate\\n\\n\\nPrivacy\\n\\n\\nImage Policy\\n\\n\\nFeedback\\n\\n\\n\\n\\n\\n\\nManaged by the Mars Exploration Program and the Jet Propulsion Laboratory for NASA’s Science Mission Directorate\\n\\n\\n\\n\\n\\n\\n\\n\\n\\n\\n\\n\\n\\n\\n\\n\\n\\n\\n\\n\\n\\n\\n\\n\\n\\n\\nAddThis Sharing SidebarShare to FacebookFacebookShare to TwitterTwitterShare to RedditRedditShare to EmailEmailMore AddThis Share optionsAddThis19SHARESHideShowCloseAddThisAddThis SharingSHARESFacebookTwitterRedditEmailAddThis'"
      ]
     },
     "execution_count": 7,
     "metadata": {},
     "output_type": "execute_result"
    }
   ],
   "source": [
    "#soup.body.text\n",
    "\n"
   ]
  },
  {
   "cell_type": "code",
   "execution_count": null,
   "metadata": {},
   "outputs": [],
   "source": [
    "# Examine the results, then determine element that contains sought info\n",
    "#print(soup.body.text)"
   ]
  },
  {
   "cell_type": "code",
   "execution_count": 11,
   "metadata": {},
   "outputs": [
    {
     "data": {
      "text/plain": [
       "[<div class=\"content_title\"><a href=\"/news/8545/nasas-mars-2020-heads-into-the-test-chamber/\" target=\"_self\">NASA's Mars 2020 Heads Into the Test Chamber</a></div>,\n",
       " <div class=\"content_title\"><a href=\"/news/8544/screening-soon-the-pathfinders-trains-lens-on-mars/\" target=\"_self\">Screening Soon: 'The Pathfinders' Trains Lens on Mars</a></div>,\n",
       " <div class=\"content_title\"><a href=\"/news/8529/insights-mole-team-peers-into-the-pit/\" target=\"_self\">InSight's 'Mole' Team Peers into the Pit</a></div>,\n",
       " <div class=\"content_title\"><a href=\"/news/8444/common-questions-about-insights-mole/\" target=\"_self\">Common Questions about InSight's 'Mole'</a></div>,\n",
       " <div class=\"content_title\"><a href=\"/news/8537/mars-2020-stands-on-its-own-six-wheels/\" target=\"_self\">Mars 2020 Stands on Its Own Six Wheels</a></div>,\n",
       " <div class=\"content_title\"><a href=\"/news/8536/new-selfie-shows-curiosity-the-mars-chemist/\" target=\"_self\">New Selfie Shows Curiosity, the Mars Chemist</a></div>,\n",
       " <div class=\"content_title\"><a href=\"/news/8534/naming-a-nasa-mars-rover-can-change-your-life/\" target=\"_self\">Naming a NASA Mars Rover Can Change Your Life</a></div>,\n",
       " <div class=\"content_title\"><a href=\"/news/8531/mars-2020-unwrapped-and-ready-for-more-testing/\" target=\"_self\">Mars 2020 Unwrapped and Ready for More Testing</a></div>,\n",
       " <div class=\"content_title\"><a href=\"/news/8528/hirise-views-nasas-insight-and-curiosity-on-mars/\" target=\"_self\">HiRISE Views NASA's InSight and Curiosity on Mars</a></div>,\n",
       " <div class=\"content_title\"><a href=\"/news/8522/nasas-curiosity-rover-finds-an-ancient-oasis-on-mars/\" target=\"_self\">NASA's Curiosity Rover Finds an Ancient Oasis on Mars</a></div>,\n",
       " <div class=\"content_title\"><a href=\"/news/8520/nasas-mars-2020-rover-tests-descent-stage-separation/\" target=\"_self\">NASA's Mars 2020 Rover Tests Descent-Stage Separation</a></div>,\n",
       " <div class=\"content_title\"><a href=\"/news/8518/nasas-push-to-save-the-mars-insight-landers-heat-probe/\" target=\"_self\">NASA's Push to Save the Mars InSight Lander's Heat Probe</a></div>,\n",
       " <div class=\"content_title\"><a href=\"/news/8517/nasas-insight-hears-peculiar-sounds-on-mars/\" target=\"_self\">NASA's InSight 'Hears' Peculiar Sounds on Mars</a></div>,\n",
       " <div class=\"content_title\"><a href=\"/news/8512/nasa-mars-mission-connects-with-bosnian-and-herzegovinian-town/\" target=\"_self\">NASA Mars Mission Connects With Bosnian and Herzegovinian Town</a></div>,\n",
       " <div class=\"content_title\"><a href=\"/news/8511/deadline-closing-for-names-to-fly-on-nasas-next-mars-rover/\" target=\"_self\">Deadline Closing for Names to Fly on NASA's Next Mars Rover</a></div>,\n",
       " <div class=\"content_title\"><a href=\"/news/8510/nasa-wins-two-emmy-awards-for-interactive-mission-coverage/\" target=\"_self\">NASA Wins Two Emmy Awards for Interactive Mission Coverage</a></div>,\n",
       " <div class=\"content_title\"><a href=\"/news/8509/nasas-mars-2020-comes-full-circle/\" target=\"_self\">NASA's Mars 2020 Comes Full Circle</a></div>,\n",
       " <div class=\"content_title\"><a href=\"/news/8508/nasa-invites-students-to-name-mars-2020-rover/\" target=\"_self\">NASA Invites Students to Name Mars 2020 Rover</a></div>,\n",
       " <div class=\"content_title\"><a href=\"/news/8507/nasas-mars-helicopter-attached-to-mars-2020-rover/\" target=\"_self\">NASA's Mars Helicopter Attached to Mars 2020 Rover </a></div>,\n",
       " <div class=\"content_title\"><a href=\"/news/8506/whats-mars-solar-conjunction-and-why-does-it-matter/\" target=\"_self\">What's Mars Solar Conjunction, and Why Does It Matter?</a></div>,\n",
       " <div class=\"content_title\"><a href=\"/news/8505/scientists-explore-outback-as-testbed-for-mars/\" target=\"_self\">Scientists Explore Outback as Testbed for Mars </a></div>,\n",
       " <div class=\"content_title\"><a href=\"/news/8504/nasa-jpl-names-rolling-stones-rock-on-mars/\" target=\"_self\">NASA-JPL Names 'Rolling Stones Rock' on Mars</a></div>,\n",
       " <div class=\"content_title\"><a href=\"/news/8503/robotic-toolkit-added-to-nasas-mars-2020-rover/\" target=\"_self\">Robotic Toolkit Added to NASA's Mars 2020 Rover</a></div>,\n",
       " <div class=\"content_title\"><a href=\"/news/8502/space-samples-link-nasas-apollo-11-and-mars-2020/\" target=\"_self\">Space Samples Link NASA's Apollo 11 and Mars 2020</a></div>,\n",
       " <div class=\"content_title\"><a href=\"/news/8501/small-satellite-mission-of-the-year/\" target=\"_self\">Small Satellite Mission of the Year</a></div>,\n",
       " <div class=\"content_title\"><a href=\"/news/8499/nasa-optometrists-verify-mars-2020-rovers-2020-vision/\" target=\"_self\">NASA 'Optometrists' Verify Mars 2020 Rover's 20/20 Vision</a></div>,\n",
       " <div class=\"content_title\"><a href=\"/news/8498/new-finds-for-mars-rover-seven-years-after-landing/\" target=\"_self\">New Finds for Mars Rover, Seven Years After Landing</a></div>,\n",
       " <div class=\"content_title\"><a href=\"/news/8497/medli2-installation-on-mars-2020-aeroshell-begins/\" target=\"_self\">MEDLI2 Installation on Mars 2020 Aeroshell Begins</a></div>,\n",
       " <div class=\"content_title\"><a href=\"/news/8496/nasas-mars-2020-rover-does-biceps-curls/\" target=\"_self\">NASA's Mars 2020 Rover Does Biceps Curls </a></div>,\n",
       " <div class=\"content_title\"><a href=\"/news/8495/fueling-of-nasas-mars-2020-rover-power-system-begins/\" target=\"_self\">Fueling of NASA's Mars 2020 Rover Power System Begins</a></div>,\n",
       " <div class=\"content_title\"><a href=\"/news/8494/what-does-a-marsquake-look-like/\" target=\"_self\">What Does a Marsquake Look Like?</a></div>,\n",
       " <div class=\"content_title\"><a href=\"/news/8461/mars-2020-rover-t-minus-one-year-and-counting/\" target=\"_self\">Mars 2020 Rover: T-Minus One Year and Counting </a></div>,\n",
       " <div class=\"content_title\"><a href=\"/news/8460/nasa-racks-up-two-emmy-nominations-for-mission-coverage/\" target=\"_self\">NASA Racks Up Two Emmy Nominations for Mission Coverage</a></div>,\n",
       " <div class=\"content_title\"><a href=\"/news/8459/want-to-colonize-mars-aerogel-could-help/\" target=\"_self\">Want to Colonize Mars? Aerogel Could Help</a></div>,\n",
       " <div class=\"content_title\"><a href=\"/news/8458/a-rover-pit-stop-at-jpl/\" target=\"_self\">A Rover Pit Stop at JPL</a></div>,\n",
       " <div class=\"content_title\"><a href=\"/news/8457/mars-2020-rover-gets-a-super-instrument/\" target=\"_self\">Mars 2020 Rover Gets a Super Instrument</a></div>,\n",
       " <div class=\"content_title\"><a href=\"/news/8456/a-neil-armstrong-for-mars-landing-the-mars-2020-rover/\" target=\"_self\">A Neil Armstrong for Mars: Landing the Mars 2020 Rover</a></div>,\n",
       " <div class=\"content_title\"><a href=\"/news/8455/nasas-insight-uncovers-the-mole/\" target=\"_self\">NASA's InSight Uncovers the 'Mole' </a></div>,\n",
       " <div class=\"content_title\"><a href=\"/news/8454/mars-2020-rovers-7-foot-long-robotic-arm-installed/\" target=\"_self\">Mars 2020 Rover's 7-Foot-Long Robotic Arm Installed</a></div>,\n",
       " <div class=\"content_title\"><a href=\"/news/8453/nasa-selects-partners-for-mars-2020-name-the-rover-contest-seeks-judges/\" target=\"_self\">NASA Selects Partners for Mars 2020 'Name the Rover' Contest, Seeks Judges</a></div>,\n",
       " <div class=\"content_title\">\n",
       " <a href=\"/news/8426/nasa-garners-7-webby-award-nominations/\">\n",
       " NASA Garners 7 Webby Award Nominations\n",
       " </a>\n",
       " </div>,\n",
       " <div class=\"content_title\">\n",
       " <a href=\"/news/8413/nasas-opportunity-rover-mission-on-mars-comes-to-end/\">\n",
       " NASA's Opportunity Rover Mission on Mars Comes to End\n",
       " </a>\n",
       " </div>,\n",
       " <div class=\"content_title\">\n",
       " <a href=\"/news/8402/nasas-insight-places-first-instrument-on-mars/\">\n",
       " NASA's InSight Places First Instrument on Mars\n",
       " </a>\n",
       " </div>,\n",
       " <div class=\"content_title\">\n",
       " <a href=\"/news/8508/nasa-invites-students-to-name-mars-2020-rover/\">\n",
       " NASA Invites Students to Name Mars 2020 Rover\n",
       " </a>\n",
       " </div>,\n",
       " <div class=\"content_title\">\n",
       " <a href=\"/news/8442/nasas-curiosity-mars-rover-finds-a-clay-cache/\">\n",
       " NASA's Curiosity Mars Rover Finds a Clay Cache\n",
       " </a>\n",
       " </div>,\n",
       " <div class=\"content_title\">\n",
       " <a href=\"/news/8436/why-this-martian-full-moon-looks-like-candy/\">\n",
       " Why This Martian Full Moon Looks Like Candy\n",
       " </a>\n",
       " </div>,\n",
       " <div class=\"content_title\">\n",
       " <a href=\"/news/8426/nasa-garners-7-webby-award-nominations/\">\n",
       " NASA Garners 7 Webby Award Nominations\n",
       " </a>\n",
       " </div>,\n",
       " <div class=\"content_title\">\n",
       " <a href=\"/news/8413/nasas-opportunity-rover-mission-on-mars-comes-to-end/\">\n",
       " NASA's Opportunity Rover Mission on Mars Comes to End\n",
       " </a>\n",
       " </div>,\n",
       " <div class=\"content_title\">\n",
       " <a href=\"/news/8402/nasas-insight-places-first-instrument-on-mars/\">\n",
       " NASA's InSight Places First Instrument on Mars\n",
       " </a>\n",
       " </div>,\n",
       " <div class=\"content_title\">\n",
       " <a href=\"/news/8508/nasa-invites-students-to-name-mars-2020-rover/\">\n",
       " NASA Invites Students to Name Mars 2020 Rover\n",
       " </a>\n",
       " </div>,\n",
       " <div class=\"content_title\">\n",
       " <a href=\"/news/8442/nasas-curiosity-mars-rover-finds-a-clay-cache/\">\n",
       " NASA's Curiosity Mars Rover Finds a Clay Cache\n",
       " </a>\n",
       " </div>,\n",
       " <div class=\"content_title\">\n",
       " <a href=\"/news/8436/why-this-martian-full-moon-looks-like-candy/\">\n",
       " Why This Martian Full Moon Looks Like Candy\n",
       " </a>\n",
       " </div>]"
      ]
     },
     "execution_count": 11,
     "metadata": {},
     "output_type": "execute_result"
    }
   ],
   "source": [
    "result1 = soup.find_all('div', class_='content_title')\n",
    "\n",
    "result1\n"
   ]
  },
  {
   "cell_type": "code",
   "execution_count": 12,
   "metadata": {},
   "outputs": [
    {
     "data": {
      "text/plain": [
       "[\"NASA's Mars 2020 Heads Into the Test Chamber\",\n",
       " \"Screening Soon: 'The Pathfinders' Trains Lens on Mars\",\n",
       " \"InSight's 'Mole' Team Peers into the Pit\",\n",
       " \"Common Questions about InSight's 'Mole'\",\n",
       " 'Mars 2020 Stands on Its Own Six Wheels',\n",
       " 'New Selfie Shows Curiosity, the Mars Chemist',\n",
       " 'Naming a NASA Mars Rover Can Change Your Life',\n",
       " 'Mars 2020 Unwrapped and Ready for More Testing',\n",
       " \"HiRISE Views NASA's InSight and Curiosity on Mars\",\n",
       " \"NASA's Curiosity Rover Finds an Ancient Oasis on Mars\",\n",
       " \"NASA's Mars 2020 Rover Tests Descent-Stage Separation\",\n",
       " \"NASA's Push to Save the Mars InSight Lander's Heat Probe\",\n",
       " \"NASA's InSight 'Hears' Peculiar Sounds on Mars\",\n",
       " 'NASA Mars Mission Connects With Bosnian and Herzegovinian Town',\n",
       " \"Deadline Closing for Names to Fly on NASA's Next Mars Rover\",\n",
       " 'NASA Wins Two Emmy Awards for Interactive Mission Coverage',\n",
       " \"NASA's Mars 2020 Comes Full Circle\",\n",
       " 'NASA Invites Students to Name Mars 2020 Rover',\n",
       " \"NASA's Mars Helicopter Attached to Mars 2020 Rover \",\n",
       " \"What's Mars Solar Conjunction, and Why Does It Matter?\",\n",
       " 'Scientists Explore Outback as Testbed for Mars ',\n",
       " \"NASA-JPL Names 'Rolling Stones Rock' on Mars\",\n",
       " \"Robotic Toolkit Added to NASA's Mars 2020 Rover\",\n",
       " \"Space Samples Link NASA's Apollo 11 and Mars 2020\",\n",
       " 'Small Satellite Mission of the Year',\n",
       " \"NASA 'Optometrists' Verify Mars 2020 Rover's 20/20 Vision\",\n",
       " 'New Finds for Mars Rover, Seven Years After Landing',\n",
       " 'MEDLI2 Installation on Mars 2020 Aeroshell Begins',\n",
       " \"NASA's Mars 2020 Rover Does Biceps Curls \",\n",
       " \"Fueling of NASA's Mars 2020 Rover Power System Begins\",\n",
       " 'What Does a Marsquake Look Like?',\n",
       " 'Mars 2020 Rover: T-Minus One Year and Counting ',\n",
       " 'NASA Racks Up Two Emmy Nominations for Mission Coverage',\n",
       " 'Want to Colonize Mars? Aerogel Could Help',\n",
       " 'A Rover Pit Stop at JPL',\n",
       " 'Mars 2020 Rover Gets a Super Instrument',\n",
       " 'A Neil Armstrong for Mars: Landing the Mars 2020 Rover',\n",
       " \"NASA's InSight Uncovers the 'Mole' \",\n",
       " \"Mars 2020 Rover's 7-Foot-Long Robotic Arm Installed\",\n",
       " \"NASA Selects Partners for Mars 2020 'Name the Rover' Contest, Seeks Judges\",\n",
       " '\\nNASA Garners 7 Webby Award Nominations\\n',\n",
       " \"\\nNASA's Opportunity Rover Mission on Mars Comes to End\\n\",\n",
       " \"\\nNASA's InSight Places First Instrument on Mars\\n\",\n",
       " '\\nNASA Invites Students to Name Mars 2020 Rover\\n',\n",
       " \"\\nNASA's Curiosity Mars Rover Finds a Clay Cache\\n\",\n",
       " '\\nWhy This Martian Full Moon Looks Like Candy\\n',\n",
       " '\\nNASA Garners 7 Webby Award Nominations\\n',\n",
       " \"\\nNASA's Opportunity Rover Mission on Mars Comes to End\\n\",\n",
       " \"\\nNASA's InSight Places First Instrument on Mars\\n\",\n",
       " '\\nNASA Invites Students to Name Mars 2020 Rover\\n',\n",
       " \"\\nNASA's Curiosity Mars Rover Finds a Clay Cache\\n\",\n",
       " '\\nWhy This Martian Full Moon Looks Like Candy\\n']"
      ]
     },
     "execution_count": 12,
     "metadata": {},
     "output_type": "execute_result"
    }
   ],
   "source": [
    "news_title = []\n",
    "# Loop through returned results\n",
    "\n",
    "for result in result1:\n",
    "    news_title.append(result.a.text)\n",
    "    \n",
    "    \n",
    "    # Access the thread's text content\n",
    "    #title_text = title.get_text()\n",
    "    #print(title)\n",
    "\n",
    "news_title"
   ]
  },
  {
   "cell_type": "code",
   "execution_count": 13,
   "metadata": {},
   "outputs": [
    {
     "data": {
      "text/plain": [
       "[<div class=\"article_teaser_body\">In this time-lapse video taken at JPL, engineers move the Mars 2020 rover into a large vacuum chamber for testing in Mars-like environmental conditions.</div>,\n",
       " <div class=\"article_teaser_body\">With the Mars 2020 mission ramping up, the documentary — the first of four about past JPL missions to the Red Planet to be shown at Caltech — tells a gripping backstory.</div>,\n",
       " <div class=\"article_teaser_body\">Efforts to save the heat probe continue.</div>,\n",
       " <div class=\"article_teaser_body\">There's a new plan to get InSight's \"mole\" moving again. The following Q&amp;As with two members of the team answer some of the most common questions about the burrowing device, part of a science instrument called the Heat Flow and Physical Properties Package (HP3).</div>,\n",
       " <div class=\"article_teaser_body\">In time-lapse video, taken at JPL, captures the first time NASA's Mars 2020 rover carries its full weight on its legs and wheels.</div>,\n",
       " <div class=\"article_teaser_body\">The NASA rover performed a special chemistry experiment at the location captured in its newest self-portrait.</div>,\n",
       " <div class=\"article_teaser_body\">Want to name the robotic scientist NASA is sending to Mars in 2020? The student who named Curiosity — the rover currently exploring Mars — will tell you this is an opportunity worth taking.</div>,\n",
       " <div class=\"article_teaser_body\">In time-lapse video, bunny-suited engineers remove the inner layer of protective foil on NASA's Mars 2020 rover after it was relocated for testing.</div>,\n",
       " <div class=\"article_teaser_body\">New images taken from space offer the clearest orbital glimpse yet of InSight as well as a view of Curiosity rolling along.</div>,\n",
       " <div class=\"article_teaser_body\">New evidence suggests salty, shallow ponds once dotted a Martian crater — a sign of the planet's drying climate.</div>,\n",
       " <div class=\"article_teaser_body\">A crane lifts the rocket-powered descent stage away from NASA's Mars 2020 rover after technicians tested the pyrotechnic charges that separate the two spacecraft.</div>,\n",
       " <div class=\"article_teaser_body\">The scoop on the end of the spacecraft's robotic arm will be used to 'pin' the mole against the wall of its hole.</div>,\n",
       " <div class=\"article_teaser_body\">Listen to the marsquakes and other, less-expected sounds that the Mars lander has been detecting.</div>,\n",
       " <div class=\"article_teaser_body\">A letter from NASA was presented to the mayor of Jezero, Bosnia-Herzegovina, honoring the connection between the town and Jezero Crater, the Mars 2020 rover landing site.</div>,\n",
       " <div class=\"article_teaser_body\">You have until Sept. 30 to send your names to Mars aboard the Mars 2020 rover. </div>,\n",
       " <div class=\"article_teaser_body\">NASA-JPL's coverage of the Mars InSight landing earns one of the two wins, making this the NASA center's second Emmy.</div>,\n",
       " <div class=\"article_teaser_body\">Aiming to pinpoint the Martian vehicle's center of gravity, engineers took NASA's 2,300-pound Mars 2020 rover for a spin in the clean room at JPL. </div>,\n",
       " <div class=\"article_teaser_body\">Through Nov. 1, K-12 students in the U.S. are encouraged to enter an essay contest to name NASA's next Mars rover.</div>,\n",
       " <div class=\"article_teaser_body\">The helicopter will be first aircraft to perform flight tests on another planet.</div>,\n",
       " <div class=\"article_teaser_body\">NASA spacecraft at Mars are going to be on their own for a few weeks when the Sun comes between Mars and Earth, interrupting communications.</div>,\n",
       " <div class=\"article_teaser_body\">Australia provides a great place for NASA's Mars 2020 and the ESA-Roscosmos ExoMars scientists to hone techniques in preparation for searching for signs ancient life on Mars.</div>,\n",
       " <div class=\"article_teaser_body\">NASA's Mars InSight mission honored one of the biggest bands of all time at Pasadena concert.</div>,\n",
       " <div class=\"article_teaser_body\">The bit carousel, which lies at the heart of the rover's Sample Caching System, is now aboard NASA's newest rover. </div>,\n",
       " <div class=\"article_teaser_body\">While separated by half a century, NASA's Apollo 11 and Mars 2020 missions share the same historic goal: returning samples to Earth.</div>,\n",
       " <div class=\"article_teaser_body\">The first interplanetary CubeSats were recognized by the engineering community with the 2019 Small Satellite Mission of the Year award.</div>,\n",
       " <div class=\"article_teaser_body\">Mars 2020 rover underwent an eye exam after several cameras were installed on the rover.</div>,\n",
       " <div class=\"article_teaser_body\">NASA's Curiosity rover is discovering odd rocks halfway into a region called the \"clay-bearing unit.\"</div>,\n",
       " <div class=\"article_teaser_body\">Hardware installed onto NASA's Mars 2020 entry vehicle this week will help to increase the safety of future Mars landings.</div>,\n",
       " <div class=\"article_teaser_body\">In this time-lapse video, the robotic arm on NASA's Mars 2020 rover maneuvers its 88-pound (40-kilogram) sensor-laden turret as it moves from a deployed to stowed configuration.</div>,\n",
       " <div class=\"article_teaser_body\">NASA gives the go-ahead to fuel the Mars 2020 rover's Multi-Mission Radioisotope Thermoelectric Generator, which will power rover and help keep it warm while exploring Mars.</div>,\n",
       " <div class=\"article_teaser_body\">InSight scientists used a special \"shake room\" to demonstrate the differences between quakes on Earth, the Moon and Mars.</div>,\n",
       " <div class=\"article_teaser_body\">The launch period for NASA's next rover, Mars 2020, opens exactly one year from today, July 17, 2020, and extends through Aug. 5, 2020.</div>,\n",
       " <div class=\"article_teaser_body\">JPL's coverage of the Mars InSight mission is among the efforts that will be up for an award in mid-September.</div>,\n",
       " <div class=\"article_teaser_body\">Researchers are studying whether a wonder material used in Mars rovers could help warm parts of the Red Planet rich in water ice.</div>,\n",
       " <div class=\"article_teaser_body\">Working like a finely honed machine, a team of engineers in this time-lapse video clip install test wheels on another finely honed machine: NASA's Mars 2020 rover.</div>,\n",
       " <div class=\"article_teaser_body\">With its rock-zapping laser, the SuperCam will enable the science team to identify the chemical and mineral makeup of its targets on the Red Planet.</div>,\n",
       " <div class=\"article_teaser_body\">NASA's newest rover will have an autopilot called Terrain-Relative Navigation.</div>,\n",
       " <div class=\"article_teaser_body\">The lander's robotic arm has successfully removed a piece of hardware blocking the view of its digging device in order to help with recovery efforts.</div>,\n",
       " <div class=\"article_teaser_body\">The main robotic arm has been installed on NASA's newest rover. When complete, the arm will enable the rover to hold and use science tools like a human geologist would.</div>,\n",
       " <div class=\"article_teaser_body\">The contest for U.S. schoolchildren will open in fall 2019, but judges can sign up now.</div>]"
      ]
     },
     "execution_count": 13,
     "metadata": {},
     "output_type": "execute_result"
    }
   ],
   "source": [
    "result2 = soup.find_all('div', class_='article_teaser_body')\n",
    "result2"
   ]
  },
  {
   "cell_type": "code",
   "execution_count": null,
   "metadata": {},
   "outputs": [],
   "source": []
  }
 ],
 "metadata": {
  "kernelspec": {
   "display_name": "Python 3",
   "language": "python",
   "name": "python3"
  },
  "language_info": {
   "codemirror_mode": {
    "name": "ipython",
    "version": 3
   },
   "file_extension": ".py",
   "mimetype": "text/x-python",
   "name": "python",
   "nbconvert_exporter": "python",
   "pygments_lexer": "ipython3",
   "version": "3.7.3"
  }
 },
 "nbformat": 4,
 "nbformat_minor": 2
}
