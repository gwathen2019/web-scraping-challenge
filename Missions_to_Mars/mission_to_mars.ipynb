{
 "cells": [
  {
   "cell_type": "code",
   "execution_count": 2,
   "metadata": {},
   "outputs": [],
   "source": [
    "# Dependencies\n",
    "from bs4 import BeautifulSoup as bs\n",
    "import requests\n",
    "import splinter\n",
    "from splinter import Browser\n",
    "import os"
   ]
  },
  {
   "cell_type": "code",
   "execution_count": 3,
   "metadata": {},
   "outputs": [],
   "source": [
    "executable_path = {'executable_path': 'chromedriver.exe'}\n",
    "browser = Browser('chrome', **executable_path, headless=False)\n"
   ]
  },
  {
   "cell_type": "code",
   "execution_count": 4,
   "metadata": {},
   "outputs": [],
   "source": [
    "#URL of page to be scraped\n",
    "#url = 'https://mars.nasa.gov/news/'\n",
    "url = 'https://mars.nasa.gov/news/'"
   ]
  },
  {
   "cell_type": "code",
   "execution_count": 5,
   "metadata": {},
   "outputs": [],
   "source": [
    "\n",
    "# Retrieve page with the requests module\n",
    "response = requests.get(url)"
   ]
  },
  {
   "cell_type": "code",
   "execution_count": 6,
   "metadata": {},
   "outputs": [],
   "source": [
    "# Create BeautifulSoup object; parse with 'html.parser'\n",
    "soup = bs(response.content, 'html.parser')\n",
    "#soup = bs(response.content, 'lxml')\n",
    "#soup = bs(response.content, 'html5')"
   ]
  },
  {
   "cell_type": "code",
   "execution_count": 7,
   "metadata": {},
   "outputs": [
    {
     "data": {
      "text/plain": [
       "'\\n\\n\\n\\n\\n\\n\\n\\n\\n\\n\\n\\n\\n\\n\\n\\n\\n\\n\\n\\n\\n\\n\\n\\n\\n\\n\\n\\n\\n\\n\\n\\n\\n\\n\\n\\n\\n\\n\\n\\nNASA\\n\\n\\nNASA Science\\nMars Exploration Program\\n\\n\\n\\nSkip Navigation\\n\\n\\n\\nmenu\\n\\n\\n\\n\\n\\n\\n\\n\\n\\n\\n\\n\\n\\n\\n\\n\\n\\n\\n\\n\\n\\n\\n\\n\\n\\n\\n\\n\\n\\n\\n\\nYou Might Also Like\\n\\n\\n\\n  $(document).ready(function(){\\n    $(\".features\").slick({\\n      dots: false,\\n      infinite: true,\\n      speed: 300,\\n      slide: \\'.features .slide\\',\\n      slidesToShow: 3,\\n      slidesToScroll: 3,\\n      lazyLoad: \\'ondemand\\',\\n      centerMode: false,\\n      arrows: true,\\n      appendArrows: \\'.features .slick-nav\\',\\n      appendDots: \".features .slick-nav\",\\n      responsive: [{\"breakpoint\":953,\"settings\":{\"slidesToShow\":2,\"slidesToScroll\":2,\"centerMode\":false}},{\"breakpoint\":480,\"settings\":{\"slidesToShow\":1,\"slidesToScroll\":1,\"centerMode\":true,\"arrows\":false,\"centerPadding\":\"25px\"}}]\\n    });\\n  });\\n\\n\\n\\n\\n\\n\\n\\nThrough Nov. 1, K-12 students in the U.S. are encouraged to enter an essay contest to name NASA\\'s next Mars rover.\\n\\n\\n\\n\\n\\n\\n\\n\\n\\n\\nNASA Invites Students to Name Mars 2020 Rover\\n\\n\\n\\n\\n\\n\\n\\n\\nThe rover recently drilled two samples, and both showed the highest levels of clay ever found during the mission.\\n\\n\\n\\n\\n\\n\\n\\n\\n\\n\\nNASA\\'s Curiosity Mars Rover Finds a Clay Cache\\n\\n\\n\\n\\n\\n\\n\\n\\nFor the first time, NASA\\'s Mars Odyssey orbiter has caught the Martian moon Phobos during a full moon phase. Each color in this new image represents a temperature range detected by Odyssey\\'s infrared camera.\\n\\n\\n\\n\\n\\n\\n\\n\\n\\n\\nWhy This Martian Full Moon Looks Like Candy\\n\\n\\n\\n\\n\\n\\n\\n\\nNominees include four JPL projects: the solar system and climate websites, InSight social media, and a 360-degree Earth video. Public voting closes April 18, 2019.\\n\\n\\n\\n\\n\\n\\n\\n\\n\\n\\nNASA Garners 7 Webby Award Nominations\\n\\n\\n\\n\\n\\n\\n\\n\\nNASA\\'s Opportunity Mars rover mission is complete after 15 years on Mars. Opportunity\\'s record-breaking exploration laid the groundwork for future missions to the Red Planet.\\n\\n\\n\\n\\n\\n\\n\\n\\n\\n\\nNASA\\'s Opportunity Rover Mission on Mars Comes to End\\n\\n\\n\\n\\n\\n\\n\\n\\nIn deploying its first instrument onto the surface of Mars, the lander completes a major mission milestone.\\n\\n\\n\\n\\n\\n\\n\\n\\n\\n\\nNASA\\'s InSight Places First Instrument on Mars\\n\\n\\n\\n\\n\\n\\n\\n\\n\\n\\n\\n\\n\\n\\n\\n\\n\\nFollow the Journey\\n\\n\\n\\n\\n\\n\\n\\n\\n\\n\\n\\n\\n\\n\\n\\n\\n\\n\\n\\n\\n\\nThe Red Planet\\n\\n\\n\\n\\n\\nDashboard\\n\\n\\nScience Goals\\n\\n\\nThe Planet\\n\\n\\nAtmosphere\\n\\n\\nAstrobiology\\n\\n\\nPast, Present, Future, Timeline\\n\\n\\n\\n\\n\\n\\n\\n\\n\\nThe Program\\n\\n\\n\\n\\n\\nMission Statement\\n\\n\\nAbout the Program\\n\\n\\nOrganization\\n\\n\\nWhy Mars?\\n\\n\\nResearch Programs\\n\\n\\nPlanetary Resources\\n\\n\\nTechnologies\\n\\n\\n\\n\\n\\n\\n\\n\\n\\nNews & Events\\n\\n\\n\\n\\n\\nNews\\n\\n\\nEvents\\n\\n\\n\\n\\n\\n\\n\\n\\n\\nMultimedia\\n\\n\\n\\n\\n\\nImages\\n\\n\\nVideos\\n\\n\\n\\n\\n\\n\\n\\n\\n\\nMissions\\n\\n\\n\\n\\n\\nPast\\n\\n\\nPresent\\n\\n\\nFuture\\n\\n\\nInternational Partners\\n\\n\\n\\n\\n\\n\\n\\n\\n\\nMore\\n\\n\\n\\n\\n\\n\\n\\n\\n\\n\\n\\n\\n\\n\\n\\n\\n\\nNASA Science Mission Directorate\\n\\n\\nPrivacy\\n\\n\\nImage Policy\\n\\n\\nFeedback\\n\\n\\n\\n\\n\\n\\nManaged by the Mars Exploration Program and the Jet Propulsion Laboratory for NASA’s Science Mission Directorate\\n\\n\\n\\n\\n\\n\\n\\n\\n\\n\\n\\n\\n\\n\\n\\n\\n\\n\\n\\n\\n\\n\\n\\n\\n\\n\\n'"
      ]
     },
     "execution_count": 7,
     "metadata": {},
     "output_type": "execute_result"
    }
   ],
   "source": [
    "soup.body.text\n",
    "\n"
   ]
  },
  {
   "cell_type": "code",
   "execution_count": 8,
   "metadata": {},
   "outputs": [],
   "source": [
    "# Examine the results, then determine element that contains sought info\n",
    "#print(soup.body.text)"
   ]
  },
  {
   "cell_type": "code",
   "execution_count": 9,
   "metadata": {},
   "outputs": [
    {
     "data": {
      "text/plain": [
       "[<div class=\"content_title\">\n",
       " <a href=\"/news/8508/nasa-invites-students-to-name-mars-2020-rover/\">\n",
       " NASA Invites Students to Name Mars 2020 Rover\n",
       " </a>\n",
       " </div>, <div class=\"content_title\">\n",
       " <a href=\"/news/8442/nasas-curiosity-mars-rover-finds-a-clay-cache/\">\n",
       " NASA's Curiosity Mars Rover Finds a Clay Cache\n",
       " </a>\n",
       " </div>, <div class=\"content_title\">\n",
       " <a href=\"/news/8436/why-this-martian-full-moon-looks-like-candy/\">\n",
       " Why This Martian Full Moon Looks Like Candy\n",
       " </a>\n",
       " </div>, <div class=\"content_title\">\n",
       " <a href=\"/news/8426/nasa-garners-7-webby-award-nominations/\">\n",
       " NASA Garners 7 Webby Award Nominations\n",
       " </a>\n",
       " </div>, <div class=\"content_title\">\n",
       " <a href=\"/news/8413/nasas-opportunity-rover-mission-on-mars-comes-to-end/\">\n",
       " NASA's Opportunity Rover Mission on Mars Comes to End\n",
       " </a>\n",
       " </div>, <div class=\"content_title\">\n",
       " <a href=\"/news/8402/nasas-insight-places-first-instrument-on-mars/\">\n",
       " NASA's InSight Places First Instrument on Mars\n",
       " </a>\n",
       " </div>]"
      ]
     },
     "execution_count": 9,
     "metadata": {},
     "output_type": "execute_result"
    }
   ],
   "source": [
    "result1 = soup.find_all('div', class_='content_title')\n",
    "\n",
    "result1\n"
   ]
  },
  {
   "cell_type": "code",
   "execution_count": 10,
   "metadata": {},
   "outputs": [
    {
     "data": {
      "text/plain": [
       "[<div class=\"slide\">\n",
       " <div class=\"image_and_description_container\">\n",
       " <a href=\"/news/8508/nasa-invites-students-to-name-mars-2020-rover/\">\n",
       " <div class=\"rollover_description\">\n",
       " <div class=\"rollover_description_inner\">\n",
       " Through Nov. 1, K-12 students in the U.S. are encouraged to enter an essay contest to name NASA's next Mars rover.\n",
       " </div>\n",
       " <div class=\"overlay_arrow\">\n",
       " <img alt=\"More\" src=\"/assets/overlay-arrow.png\"/>\n",
       " </div>\n",
       " </div>\n",
       " <img alt=\"NASA Invites Students to Name Mars 2020 Rover\" class=\"img-lazy\" data-lazy=\"/system/news_items/list_view_images/8508_Name_A_unannotated_MAIN-th.jpg\" src=\"/assets/loading_320x240.png\"/>\n",
       " </a>\n",
       " </div>\n",
       " <div class=\"content_title\">\n",
       " <a href=\"/news/8508/nasa-invites-students-to-name-mars-2020-rover/\">\n",
       " NASA Invites Students to Name Mars 2020 Rover\n",
       " </a>\n",
       " </div>\n",
       " </div>, <div class=\"slide\">\n",
       " <div class=\"image_and_description_container\">\n",
       " <a href=\"/news/8442/nasas-curiosity-mars-rover-finds-a-clay-cache/\">\n",
       " <div class=\"rollover_description\">\n",
       " <div class=\"rollover_description_inner\">\n",
       " The rover recently drilled two samples, and both showed the highest levels of clay ever found during the mission.\n",
       " </div>\n",
       " <div class=\"overlay_arrow\">\n",
       " <img alt=\"More\" src=\"/assets/overlay-arrow.png\"/>\n",
       " </div>\n",
       " </div>\n",
       " <img alt=\"NASA's Curiosity Mars Rover Finds a Clay Cache\" class=\"img-lazy\" data-lazy=\"/system/news_items/list_view_images/8442_PIA23240_32x24.jpg\" src=\"/assets/loading_320x240.png\"/>\n",
       " </a>\n",
       " </div>\n",
       " <div class=\"content_title\">\n",
       " <a href=\"/news/8442/nasas-curiosity-mars-rover-finds-a-clay-cache/\">\n",
       " NASA's Curiosity Mars Rover Finds a Clay Cache\n",
       " </a>\n",
       " </div>\n",
       " </div>, <div class=\"slide\">\n",
       " <div class=\"image_and_description_container\">\n",
       " <a href=\"/news/8436/why-this-martian-full-moon-looks-like-candy/\">\n",
       " <div class=\"rollover_description\">\n",
       " <div class=\"rollover_description_inner\">\n",
       " For the first time, NASA's Mars Odyssey orbiter has caught the Martian moon Phobos during a full moon phase. Each color in this new image represents a temperature range detected by Odyssey's infrared camera.\n",
       " </div>\n",
       " <div class=\"overlay_arrow\">\n",
       " <img alt=\"More\" src=\"/assets/overlay-arrow.png\"/>\n",
       " </div>\n",
       " </div>\n",
       " <img alt=\"Why This Martian Full Moon Looks Like Candy\" class=\"img-lazy\" data-lazy=\"/system/news_items/list_view_images/8436_PIA23205_annotated-32x24.jpg\" src=\"/assets/loading_320x240.png\"/>\n",
       " </a>\n",
       " </div>\n",
       " <div class=\"content_title\">\n",
       " <a href=\"/news/8436/why-this-martian-full-moon-looks-like-candy/\">\n",
       " Why This Martian Full Moon Looks Like Candy\n",
       " </a>\n",
       " </div>\n",
       " </div>, <div class=\"slide\">\n",
       " <div class=\"image_and_description_container\">\n",
       " <a href=\"/news/8426/nasa-garners-7-webby-award-nominations/\">\n",
       " <div class=\"rollover_description\">\n",
       " <div class=\"rollover_description_inner\">\n",
       " Nominees include four JPL projects: the solar system and climate websites, InSight social media, and a 360-degree Earth video. Public voting closes April 18, 2019.\n",
       " </div>\n",
       " <div class=\"overlay_arrow\">\n",
       " <img alt=\"More\" src=\"/assets/overlay-arrow.png\"/>\n",
       " </div>\n",
       " </div>\n",
       " <img alt=\"NASA Garners 7 Webby Award Nominations\" class=\"img-lazy\" data-lazy=\"/system/news_items/list_view_images/8426_Webby2019-320x240.jpg\" src=\"/assets/loading_320x240.png\"/>\n",
       " </a>\n",
       " </div>\n",
       " <div class=\"content_title\">\n",
       " <a href=\"/news/8426/nasa-garners-7-webby-award-nominations/\">\n",
       " NASA Garners 7 Webby Award Nominations\n",
       " </a>\n",
       " </div>\n",
       " </div>, <div class=\"slide\">\n",
       " <div class=\"image_and_description_container\">\n",
       " <a href=\"/news/8413/nasas-opportunity-rover-mission-on-mars-comes-to-end/\">\n",
       " <div class=\"rollover_description\">\n",
       " <div class=\"rollover_description_inner\">\n",
       " NASA's Opportunity Mars rover mission is complete after 15 years on Mars. Opportunity's record-breaking exploration laid the groundwork for future missions to the Red Planet.\n",
       " </div>\n",
       " <div class=\"overlay_arrow\">\n",
       " <img alt=\"More\" src=\"/assets/overlay-arrow.png\"/>\n",
       " </div>\n",
       " </div>\n",
       " <img alt=\"NASA's Opportunity Rover Mission on Mars Comes to End\" class=\"img-lazy\" data-lazy=\"/system/news_items/list_view_images/8413_PIA06739-320x240.jpg\" src=\"/assets/loading_320x240.png\"/>\n",
       " </a>\n",
       " </div>\n",
       " <div class=\"content_title\">\n",
       " <a href=\"/news/8413/nasas-opportunity-rover-mission-on-mars-comes-to-end/\">\n",
       " NASA's Opportunity Rover Mission on Mars Comes to End\n",
       " </a>\n",
       " </div>\n",
       " </div>, <div class=\"slide\">\n",
       " <div class=\"image_and_description_container\">\n",
       " <a href=\"/news/8402/nasas-insight-places-first-instrument-on-mars/\">\n",
       " <div class=\"rollover_description\">\n",
       " <div class=\"rollover_description_inner\">\n",
       " In deploying its first instrument onto the surface of Mars, the lander completes a major mission milestone.\n",
       " </div>\n",
       " <div class=\"overlay_arrow\">\n",
       " <img alt=\"More\" src=\"/assets/overlay-arrow.png\"/>\n",
       " </div>\n",
       " </div>\n",
       " <img alt=\"NASA's InSight Places First Instrument on Mars\" class=\"img-lazy\" data-lazy=\"/system/news_items/list_view_images/8402_PIA22977_SEIS_deploy_IDC_calibrated-th.gif\" src=\"/assets/loading_320x240.png\"/>\n",
       " </a>\n",
       " </div>\n",
       " <div class=\"content_title\">\n",
       " <a href=\"/news/8402/nasas-insight-places-first-instrument-on-mars/\">\n",
       " NASA's InSight Places First Instrument on Mars\n",
       " </a>\n",
       " </div>\n",
       " </div>]"
      ]
     },
     "execution_count": 10,
     "metadata": {},
     "output_type": "execute_result"
    }
   ],
   "source": [
    "result2 = soup.find_all(class_='slide')\n",
    "\n",
    "result2\n"
   ]
  },
  {
   "cell_type": "code",
   "execution_count": 11,
   "metadata": {},
   "outputs": [
    {
     "data": {
      "text/plain": [
       "[<div class=\"slide\">\n",
       " <div class=\"image_and_description_container\">\n",
       " <a href=\"/news/8508/nasa-invites-students-to-name-mars-2020-rover/\">\n",
       " <div class=\"rollover_description\">\n",
       " <div class=\"rollover_description_inner\">\n",
       " Through Nov. 1, K-12 students in the U.S. are encouraged to enter an essay contest to name NASA's next Mars rover.\n",
       " </div>\n",
       " <div class=\"overlay_arrow\">\n",
       " <img alt=\"More\" src=\"/assets/overlay-arrow.png\"/>\n",
       " </div>\n",
       " </div>\n",
       " <img alt=\"NASA Invites Students to Name Mars 2020 Rover\" class=\"img-lazy\" data-lazy=\"/system/news_items/list_view_images/8508_Name_A_unannotated_MAIN-th.jpg\" src=\"/assets/loading_320x240.png\"/>\n",
       " </a>\n",
       " </div>\n",
       " <div class=\"content_title\">\n",
       " <a href=\"/news/8508/nasa-invites-students-to-name-mars-2020-rover/\">\n",
       " NASA Invites Students to Name Mars 2020 Rover\n",
       " </a>\n",
       " </div>\n",
       " </div>, <div class=\"slide\">\n",
       " <div class=\"image_and_description_container\">\n",
       " <a href=\"/news/8442/nasas-curiosity-mars-rover-finds-a-clay-cache/\">\n",
       " <div class=\"rollover_description\">\n",
       " <div class=\"rollover_description_inner\">\n",
       " The rover recently drilled two samples, and both showed the highest levels of clay ever found during the mission.\n",
       " </div>\n",
       " <div class=\"overlay_arrow\">\n",
       " <img alt=\"More\" src=\"/assets/overlay-arrow.png\"/>\n",
       " </div>\n",
       " </div>\n",
       " <img alt=\"NASA's Curiosity Mars Rover Finds a Clay Cache\" class=\"img-lazy\" data-lazy=\"/system/news_items/list_view_images/8442_PIA23240_32x24.jpg\" src=\"/assets/loading_320x240.png\"/>\n",
       " </a>\n",
       " </div>\n",
       " <div class=\"content_title\">\n",
       " <a href=\"/news/8442/nasas-curiosity-mars-rover-finds-a-clay-cache/\">\n",
       " NASA's Curiosity Mars Rover Finds a Clay Cache\n",
       " </a>\n",
       " </div>\n",
       " </div>, <div class=\"slide\">\n",
       " <div class=\"image_and_description_container\">\n",
       " <a href=\"/news/8436/why-this-martian-full-moon-looks-like-candy/\">\n",
       " <div class=\"rollover_description\">\n",
       " <div class=\"rollover_description_inner\">\n",
       " For the first time, NASA's Mars Odyssey orbiter has caught the Martian moon Phobos during a full moon phase. Each color in this new image represents a temperature range detected by Odyssey's infrared camera.\n",
       " </div>\n",
       " <div class=\"overlay_arrow\">\n",
       " <img alt=\"More\" src=\"/assets/overlay-arrow.png\"/>\n",
       " </div>\n",
       " </div>\n",
       " <img alt=\"Why This Martian Full Moon Looks Like Candy\" class=\"img-lazy\" data-lazy=\"/system/news_items/list_view_images/8436_PIA23205_annotated-32x24.jpg\" src=\"/assets/loading_320x240.png\"/>\n",
       " </a>\n",
       " </div>\n",
       " <div class=\"content_title\">\n",
       " <a href=\"/news/8436/why-this-martian-full-moon-looks-like-candy/\">\n",
       " Why This Martian Full Moon Looks Like Candy\n",
       " </a>\n",
       " </div>\n",
       " </div>, <div class=\"slide\">\n",
       " <div class=\"image_and_description_container\">\n",
       " <a href=\"/news/8426/nasa-garners-7-webby-award-nominations/\">\n",
       " <div class=\"rollover_description\">\n",
       " <div class=\"rollover_description_inner\">\n",
       " Nominees include four JPL projects: the solar system and climate websites, InSight social media, and a 360-degree Earth video. Public voting closes April 18, 2019.\n",
       " </div>\n",
       " <div class=\"overlay_arrow\">\n",
       " <img alt=\"More\" src=\"/assets/overlay-arrow.png\"/>\n",
       " </div>\n",
       " </div>\n",
       " <img alt=\"NASA Garners 7 Webby Award Nominations\" class=\"img-lazy\" data-lazy=\"/system/news_items/list_view_images/8426_Webby2019-320x240.jpg\" src=\"/assets/loading_320x240.png\"/>\n",
       " </a>\n",
       " </div>\n",
       " <div class=\"content_title\">\n",
       " <a href=\"/news/8426/nasa-garners-7-webby-award-nominations/\">\n",
       " NASA Garners 7 Webby Award Nominations\n",
       " </a>\n",
       " </div>\n",
       " </div>, <div class=\"slide\">\n",
       " <div class=\"image_and_description_container\">\n",
       " <a href=\"/news/8413/nasas-opportunity-rover-mission-on-mars-comes-to-end/\">\n",
       " <div class=\"rollover_description\">\n",
       " <div class=\"rollover_description_inner\">\n",
       " NASA's Opportunity Mars rover mission is complete after 15 years on Mars. Opportunity's record-breaking exploration laid the groundwork for future missions to the Red Planet.\n",
       " </div>\n",
       " <div class=\"overlay_arrow\">\n",
       " <img alt=\"More\" src=\"/assets/overlay-arrow.png\"/>\n",
       " </div>\n",
       " </div>\n",
       " <img alt=\"NASA's Opportunity Rover Mission on Mars Comes to End\" class=\"img-lazy\" data-lazy=\"/system/news_items/list_view_images/8413_PIA06739-320x240.jpg\" src=\"/assets/loading_320x240.png\"/>\n",
       " </a>\n",
       " </div>\n",
       " <div class=\"content_title\">\n",
       " <a href=\"/news/8413/nasas-opportunity-rover-mission-on-mars-comes-to-end/\">\n",
       " NASA's Opportunity Rover Mission on Mars Comes to End\n",
       " </a>\n",
       " </div>\n",
       " </div>, <div class=\"slide\">\n",
       " <div class=\"image_and_description_container\">\n",
       " <a href=\"/news/8402/nasas-insight-places-first-instrument-on-mars/\">\n",
       " <div class=\"rollover_description\">\n",
       " <div class=\"rollover_description_inner\">\n",
       " In deploying its first instrument onto the surface of Mars, the lander completes a major mission milestone.\n",
       " </div>\n",
       " <div class=\"overlay_arrow\">\n",
       " <img alt=\"More\" src=\"/assets/overlay-arrow.png\"/>\n",
       " </div>\n",
       " </div>\n",
       " <img alt=\"NASA's InSight Places First Instrument on Mars\" class=\"img-lazy\" data-lazy=\"/system/news_items/list_view_images/8402_PIA22977_SEIS_deploy_IDC_calibrated-th.gif\" src=\"/assets/loading_320x240.png\"/>\n",
       " </a>\n",
       " </div>\n",
       " <div class=\"content_title\">\n",
       " <a href=\"/news/8402/nasas-insight-places-first-instrument-on-mars/\">\n",
       " NASA's InSight Places First Instrument on Mars\n",
       " </a>\n",
       " </div>\n",
       " </div>]"
      ]
     },
     "execution_count": 11,
     "metadata": {},
     "output_type": "execute_result"
    }
   ],
   "source": [
    "article_list = soup.find_all('div', attrs={ \"class\" : \"slide\"})\n",
    "article_list"
   ]
  },
  {
   "cell_type": "code",
   "execution_count": 12,
   "metadata": {},
   "outputs": [
    {
     "data": {
      "text/plain": [
       "['\\nNASA Invites Students to Name Mars 2020 Rover\\n',\n",
       " \"\\nNASA's Curiosity Mars Rover Finds a Clay Cache\\n\",\n",
       " '\\nWhy This Martian Full Moon Looks Like Candy\\n',\n",
       " '\\nNASA Garners 7 Webby Award Nominations\\n',\n",
       " \"\\nNASA's Opportunity Rover Mission on Mars Comes to End\\n\",\n",
       " \"\\nNASA's InSight Places First Instrument on Mars\\n\"]"
      ]
     },
     "execution_count": 12,
     "metadata": {},
     "output_type": "execute_result"
    }
   ],
   "source": [
    "news_title = []\n",
    "# Loop through returned results\n",
    "\n",
    "for result in result1:\n",
    "    news_title.append(result.a.text)\n",
    "    \n",
    "    \n",
    "    # Access the thread's text content\n",
    "    #title_text = title.get_text()\n",
    "    #print(title)\n",
    "\n",
    "news_title"
   ]
  },
  {
   "cell_type": "code",
   "execution_count": 13,
   "metadata": {},
   "outputs": [
    {
     "data": {
      "text/plain": [
       "[]"
      ]
     },
     "execution_count": 13,
     "metadata": {},
     "output_type": "execute_result"
    }
   ],
   "source": [
    "result2 = soup.find_all('div', class_='article_teaser_body')\n",
    "result2"
   ]
  }
 ],
 "metadata": {
  "kernelspec": {
   "display_name": "Python 3",
   "language": "python",
   "name": "python3"
  },
  "language_info": {
   "codemirror_mode": {
    "name": "ipython",
    "version": 3
   },
   "file_extension": ".py",
   "mimetype": "text/x-python",
   "name": "python",
   "nbconvert_exporter": "python",
   "pygments_lexer": "ipython3",
   "version": "3.7.3"
  }
 },
 "nbformat": 4,
 "nbformat_minor": 2
}
